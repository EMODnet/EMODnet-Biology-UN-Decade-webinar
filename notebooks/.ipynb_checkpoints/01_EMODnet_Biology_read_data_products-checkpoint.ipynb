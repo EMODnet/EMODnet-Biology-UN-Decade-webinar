{
 "cells": [
  {
   "cell_type": "markdown",
   "id": "12f0b3d4-cf3f-4adf-a7cf-ef5ee9e6d769",
   "metadata": {},
   "source": [
    "# Download EMODnet Biology data products\n",
    "\n",
    "text introducing to data products\n",
    "\n",
    "Data products are heterogeneous: they can be created in vector or raster format. \n",
    "\n",
    "Most data products are created as gridded data and saved as NetCDF files. We host these in the EMODnet ERDDAP server. \n",
    "\n",
    "Workflow: go to https://emodnet.ec.europa.eu/geoviewer/ and navigate\n"
   ]
  }
 ],
 "metadata": {
  "kernelspec": {
   "display_name": "R",
   "language": "R",
   "name": "ir"
  },
  "language_info": {
   "codemirror_mode": "r",
   "file_extension": ".r",
   "mimetype": "text/x-r-source",
   "name": "R",
   "pygments_lexer": "r",
   "version": "4.4.2"
  }
 },
 "nbformat": 4,
 "nbformat_minor": 5
}
