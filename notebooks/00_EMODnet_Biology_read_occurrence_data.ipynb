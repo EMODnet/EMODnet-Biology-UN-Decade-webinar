{
 "cells": [
  {
   "cell_type": "markdown",
   "id": "277f6d53-70ad-4116-8eab-0591c01792fd",
   "metadata": {},
   "source": [
    "# Download biological occurrences data from EMODnet Biology\n",
    "\n",
    "> An existence of a particular organism or defined group of organisms considered to be taxonomically homogeneous, at a particular place at a particular time\n",
    "\n",
    "https://dwc.tdwg.org/terms/#occurrence"
   ]
  },
  {
   "cell_type": "markdown",
   "id": "09692ac9-646c-41f8-9a0a-2ae2f623e1ca",
   "metadata": {},
   "source": [
    "## Prerequisites\n",
    "\n",
    "We will use three packages during this demonstration. All these packages are on development and are available on github. We will use `pak` to install these packages and their dependencies"
   ]
  },
  {
   "cell_type": "markdown",
   "id": "52929b93-bf30-4a6a-aee1-66e2efd18929",
   "metadata": {},
   "source": [
    "```r\n",
    "install.packages(\"pak\")\n",
    "pak::pkg_install(c(\"lifewatch/eurobis\", \"EMODnet/emodnet.wfs\", \"EMODnet/EMODnetWCS\"))\n",
    "```"
   ]
  },
  {
   "cell_type": "code",
   "execution_count": 1,
   "id": "27356c95-fae8-492b-9fd4-bf793667484b",
   "metadata": {},
   "outputs": [
    {
     "name": "stderr",
     "output_type": "stream",
     "text": [
      "Warning message:\n",
      "“package ‘eurobis’ was built under R version 4.4.2”\n"
     ]
    }
   ],
   "source": [
    "library(eurobis)"
   ]
  },
  {
   "cell_type": "markdown",
   "id": "0082b9c4-92cb-4ef7-b043-cb85ff212f4a",
   "metadata": {},
   "source": [
    "## Accessing EMODnet Biology occurrence data from EurOBIS\n",
    "\n",
    "EMODnet Biology shares infrastructure with EurOBIS - meaning the EMODnet-Biology occurrences data come from the EurOBIS database. EurOBIS is the European node of OBIS.\n",
    "The easiest way to access EMODnet occurrences programatically is using the `eurobis` R package.\n",
    "\n",
    "You can filter the data on several parameters. E.g. you can retrieve one single dataset by providing the Integrated Marine Information System ([IMIS](https://www.vliz.be/en/integrated-marine-information-system)) unique identifier for datasets [dasid](https://www.vliz.be/imis?page=webservices)."
   ]
  },
  {
   "cell_type": "code",
   "execution_count": null,
   "id": "33dafb90-8720-46ab-8ade-451836db1c47",
   "metadata": {},
   "outputs": [],
   "source": [
    "# Download a single dataset\n",
    "eurobis_occurrences_basic(dasid = 8045) |> head()"
   ]
  },
  {
   "cell_type": "markdown",
   "id": "4c0a2daf-7a8a-4c16-afc3-654b3040fafd",
   "metadata": {},
   "source": [
    "#### Taxon\n",
    "Use a scientific name (e.g. the sea turtle _Caretta caretta_) or a [WoRMS AphiaID](https://www.marinespecies.org/about.php#what_is_aphia) (e.g. [137205](https://www.marinespecies.org/aphia.php?p=taxdetails&id=137205)).\n"
   ]
  },
  {
   "cell_type": "code",
   "execution_count": 16,
   "id": "3dc37816-0786-4c7c-933b-1d06a94a8af6",
   "metadata": {},
   "outputs": [
    {
     "name": "stderr",
     "output_type": "stream",
     "text": [
      "\u001b[32m✔\u001b[39m Downloading layer: EMODnet EurOBIS Basic Occurrence Data\n",
      "\n",
      "\u001b[36mℹ\u001b[39m The Basic Occurrence Data download provides you data for the following 8 essential terms: datasetid, datecollected, decimallongitude, decimallatitude, coordinateuncertaintyinmeters, scientificname, aphiaid, scientificnameaccepted. For more information, please consult: https://www.emodnet-biology.eu/emodnet-data-format.\n",
      "\n"
     ]
    }
   ],
   "source": [
    "# Download a single dataset\n",
    "eurobis_occurrences_basic(aphiaid = 137205) |> head()"
   ]
  },
  {
   "cell_type": "markdown",
   "id": "9c5951f6-6c15-4fd0-a979-ec023f0d8d08",
   "metadata": {},
   "source": [
    "#### Traits\n",
    "Get all occurrences that are benthos. Or zooplankton. Or both. Powered by [WoRMS](https://www.marinespecies.org/)."
   ]
  },
  {
   "cell_type": "code",
   "execution_count": null,
   "id": "b65f276d-ce18-4880-a04c-d378cb70ef64",
   "metadata": {},
   "outputs": [],
   "source": [
    "eurobis_occurrences_basic(functional_group = \"phytoplankton\") |> head()"
   ]
  },
  {
   "cell_type": "markdown",
   "id": "1dcd294c-e64a-4523-b8a3-7deaef49c90d",
   "metadata": {},
   "source": [
    "#### Time\n",
    "Just give start and end dates."
   ]
  },
  {
   "cell_type": "code",
   "execution_count": null,
   "id": "f4e01d7f-f571-4f96-9a16-41d06224e7ab",
   "metadata": {},
   "outputs": [],
   "source": [
    "eurobis_occurrences_basic(start_date = \"2010-01-01\", end_date = \"2010-06-31\") |> head()"
   ]
  },
  {
   "cell_type": "markdown",
   "id": "9499e6c4-24e9-47dc-9325-83641796d789",
   "metadata": {},
   "source": [
    "#### Geographically\n",
    "Query on more than 300 records from the [Marine Regions Gazetteer](https://marineregions.org/gazetteer.php) by giving the [MRGID](https://marineregions.org/mrgid.php). Or just pass the area of your interest as a polygon written in as [Well Known Text](https://en.wikipedia.org/wiki/Well-known_text_representation_of_geometry)."
   ]
  },
  {
   "cell_type": "code",
   "execution_count": null,
   "id": "15f8a74c-51bd-42a7-9c25-e684ac40a9c4",
   "metadata": {},
   "outputs": [
    {
     "name": "stderr",
     "output_type": "stream",
     "text": [
      "Loading required namespace: leaflet.extras\n",
      "\n",
      "Loading required namespace: miniUI\n",
      "\n",
      "Loading required package: shiny\n",
      "\n",
      "Warning message:\n",
      "“package ‘shiny’ was built under R version 4.4.2”\n",
      "\n",
      "Listening on http://127.0.0.1:3414\n",
      "\n"
     ]
    }
   ],
   "source": [
    "selected_area <- eurobis_map_draw()\n",
    "selected_area\n",
    "\n",
    "# eurobis_occurrences_basic(geometry = selected_area, functional_group = \"angiosperms\")"
   ]
  },
  {
   "cell_type": "markdown",
   "id": "8196e5c7-23c5-4437-8f91-c12bb615b242",
   "metadata": {},
   "source": [
    "#### Other important classifications\n",
    "As [IUCN Red List](https://www.iucnredlist.org/en), [MSDF Indicators](https://msfd.eu/knowseas/guidelines/3-INDICATORS-Guideline.pdf) or [Habitats Directive](https://ec.europa.eu/environment/nature/conservation/species/habitats_dir_en.htm) and [CITES](https://cites.org/eng/app/index.php) Annexes."
   ]
  },
  {
   "cell_type": "markdown",
   "id": "73f14603-cda5-4f82-96a3-b0feb8c83d23",
   "metadata": {},
   "source": [
    "### The data format\n",
    "\n",
    "There are [three data formats](https://emodnet.ec.europa.eu/en/biology#biology-data-and-products-format) presented by EMODnet Biology and available through `eurobis`\n",
    "\n",
    "#### Basic Occurrence Data\n",
    "\n",
    "The **Basic Occurrence Data** provides you with all data required to perform temporal spatial analysis for the different taxa. It indicates which taxa was found (`scientificname` and `aphiaid`), when (`datecollected`) and where (`decimallongitude` and `decimallatitude` in WGS84 - EPGS:4326), along with a dataset identifier (`datasetid`)."
   ]
  },
  {
   "cell_type": "code",
   "execution_count": null,
   "id": "18b4a16b-aff9-4fae-94ce-8aa6f82c7b10",
   "metadata": {},
   "outputs": [],
   "source": [
    "# Download only basic occurrences\n",
    "eurobis_occurrences_basic(dasid = 8045) |> head()"
   ]
  },
  {
   "cell_type": "markdown",
   "id": "0b19e412-d806-4510-8435-b5606d3e840d",
   "metadata": {},
   "source": [
    "#### Full Occurrence Data\n",
    "\n",
    "The **Full Occurrence Data** provides additional information which may help interpret the basic data. This format offers all the data from the Basic Occurrences plus additiontal information which may help interpret the basic data such as information on the institute collecting the data, the methodology, the exact time and location (and uncertainty),..."
   ]
  },
  {
   "cell_type": "code",
   "execution_count": null,
   "id": "7429b25a-90cc-4d55-925f-bd7d8c44cc81",
   "metadata": {},
   "outputs": [],
   "source": [
    "# Download all occurrences information\n",
    "eurobis_occurrences_full(dasid = 8045) |> head()"
   ]
  },
  {
   "cell_type": "markdown",
   "id": "0da2e7bf-d4c3-4359-ab1a-bc6458fa1134",
   "metadata": {},
   "source": [
    "#### Full Occurrence Data and Parameters\n",
    "\n",
    "The **Full Occurrence Data and Parameters** provides you with all measurement or facts associated to the occurrence or the sample. "
   ]
  },
  {
   "cell_type": "code",
   "execution_count": null,
   "id": "ee42ff64-c24a-49eb-8946-6e73fd1ede50",
   "metadata": {},
   "outputs": [],
   "source": [
    "# Download all occurrences and all measurements or facts\n",
    "eurobis_occurrences_full_and_parameters(dasid = 8045) |> head()"
   ]
  },
  {
   "cell_type": "markdown",
   "id": "d1bd673d-b5ee-4b97-9e27-401662edd0da",
   "metadata": {},
   "source": [
    "You can find more information about the terms returned by each download type in the [EMODnet Biology documentation](https://emodnet.ec.europa.eu/en/biology#biology-data-and-products-format). "
   ]
  }
 ],
 "metadata": {
  "kernelspec": {
   "display_name": "R",
   "language": "R",
   "name": "ir"
  },
  "language_info": {
   "codemirror_mode": "r",
   "file_extension": ".r",
   "mimetype": "text/x-r-source",
   "name": "R",
   "pygments_lexer": "r",
   "version": "4.4.1"
  }
 },
 "nbformat": 4,
 "nbformat_minor": 5
}
