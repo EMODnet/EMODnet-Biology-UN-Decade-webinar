{
 "cells": [
  {
   "cell_type": "markdown",
   "id": "277f6d53-70ad-4116-8eab-0591c01792fd",
   "metadata": {},
   "source": [
    "Read occurrences\n",
    "\n",
    "Read with eurobis R package"
   ]
  },
  {
   "cell_type": "code",
   "execution_count": 4,
   "id": "33dafb90-8720-46ab-8ade-451836db1c47",
   "metadata": {},
   "outputs": [
    {
     "ename": "ERROR",
     "evalue": "Error in library(emodnet.wfs): there is no package called ‘emodnet.wfs’\n",
     "output_type": "error",
     "traceback": [
      "Error in library(emodnet.wfs): there is no package called ‘emodnet.wfs’\nTraceback:\n",
      "1. library(emodnet.wfs)"
     ]
    }
   ],
   "source": [
    "library(emodnet.wfs)"
   ]
  }
 ],
 "metadata": {
  "kernelspec": {
   "display_name": "R",
   "language": "R",
   "name": "ir"
  },
  "language_info": {
   "codemirror_mode": "r",
   "file_extension": ".r",
   "mimetype": "text/x-r-source",
   "name": "R",
   "pygments_lexer": "r",
   "version": "4.3.1"
  }
 },
 "nbformat": 4,
 "nbformat_minor": 5
}
